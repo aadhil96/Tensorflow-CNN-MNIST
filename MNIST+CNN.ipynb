{
 "cells": [
  {
   "cell_type": "code",
   "execution_count": 1,
   "metadata": {
    "collapsed": true
   },
   "outputs": [],
   "source": [
    "import tensorflow as tf"
   ]
  },
  {
   "cell_type": "code",
   "execution_count": 33,
   "metadata": {
    "collapsed": true
   },
   "outputs": [],
   "source": [
    "from tensorflow.examples.tutorials.mnist import input_data"
   ]
  },
  {
   "cell_type": "code",
   "execution_count": 34,
   "metadata": {},
   "outputs": [
    {
     "name": "stdout",
     "output_type": "stream",
     "text": [
      "Extracting MNIST_data/train-images-idx3-ubyte.gz\n",
      "Extracting MNIST_data/train-labels-idx1-ubyte.gz\n",
      "Extracting MNIST_data/t10k-images-idx3-ubyte.gz\n",
      "Extracting MNIST_data/t10k-labels-idx1-ubyte.gz\n"
     ]
    }
   ],
   "source": [
    "mnist = input_data.read_data_sets(\"MNIST_data/\",one_hot=True)"
   ]
  },
  {
   "cell_type": "code",
   "execution_count": 5,
   "metadata": {
    "collapsed": true
   },
   "outputs": [],
   "source": [
    "#INIT WEIGHT"
   ]
  },
  {
   "cell_type": "code",
   "execution_count": 35,
   "metadata": {
    "collapsed": true
   },
   "outputs": [],
   "source": [
    "def init_weight(shape):\n",
    "    init_random_dist = tf.truncated_normal(shape,stddev=0.1)\n",
    "    return tf.Variable(init_random_dist)"
   ]
  },
  {
   "cell_type": "code",
   "execution_count": 36,
   "metadata": {
    "collapsed": true
   },
   "outputs": [],
   "source": [
    "#INIT BIAS\n",
    "def init_bias(shape):\n",
    "    init_bias_vals = tf.constant(0.1,shape=shape)\n",
    "    return tf.Variable(init_bias_vals)"
   ]
  },
  {
   "cell_type": "code",
   "execution_count": 37,
   "metadata": {
    "collapsed": true
   },
   "outputs": [],
   "source": [
    "#CONV2D\n",
    "def conv2d(x,W):\n",
    "    \n",
    "    return tf.nn.conv2d(x,W,strides=[1,1,1,1],padding='SAME')"
   ]
  },
  {
   "cell_type": "code",
   "execution_count": 38,
   "metadata": {},
   "outputs": [],
   "source": [
    "def max_pool_2by2(x):\n",
    "    return tf.nn.max_pool(x,ksize=[1,2,2,1],strides=[1,2,2,1],padding='SAME')"
   ]
  },
  {
   "cell_type": "code",
   "execution_count": 39,
   "metadata": {
    "collapsed": true
   },
   "outputs": [],
   "source": [
    "#CONVOLUTIONAL LAYER\n",
    "def convolution_layer(input_x,shape):\n",
    "    W = init_weight(shape)\n",
    "    b = init_bias([shape[3]])\n",
    "    return tf.nn.relu(conv2d(input_x,W)+b)"
   ]
  },
  {
   "cell_type": "code",
   "execution_count": 40,
   "metadata": {
    "collapsed": true
   },
   "outputs": [],
   "source": [
    "def normal_full_layer(input_layer,size):\n",
    "    input_size = int(input_layer.get_shape()[1])\n",
    "    W = init_weight([input_size,size])\n",
    "    b = init_bias([size])\n",
    "    return tf.matmul(input_layer,W)+b"
   ]
  },
  {
   "cell_type": "code",
   "execution_count": 15,
   "metadata": {
    "collapsed": true
   },
   "outputs": [],
   "source": [
    "#placeholder"
   ]
  },
  {
   "cell_type": "code",
   "execution_count": 41,
   "metadata": {
    "collapsed": true
   },
   "outputs": [],
   "source": [
    "x = tf.placeholder(tf.float32,shape=[None,784])"
   ]
  },
  {
   "cell_type": "code",
   "execution_count": 42,
   "metadata": {
    "collapsed": true
   },
   "outputs": [],
   "source": [
    "y_true = tf.placeholder(tf.float32,shape=[None,10])"
   ]
  },
  {
   "cell_type": "code",
   "execution_count": 43,
   "metadata": {
    "collapsed": true
   },
   "outputs": [],
   "source": [
    "#Layers\n",
    "x_image = tf.reshape(x,[-1,28,28,1])"
   ]
  },
  {
   "cell_type": "code",
   "execution_count": 44,
   "metadata": {
    "collapsed": true
   },
   "outputs": [],
   "source": [
    "convo_1 = convolution_layer(x_image,shape=[5,5,1,32]) \n",
    "convo_1_pooling = max_pool_2by2(convo_1)"
   ]
  },
  {
   "cell_type": "code",
   "execution_count": 45,
   "metadata": {
    "collapsed": true
   },
   "outputs": [],
   "source": [
    "convo_2 = convolution_layer(convo_1_pooling,shape=[5,5,32,64])\n",
    "convo_2_pooling = max_pool_2by2(convo_2)"
   ]
  },
  {
   "cell_type": "code",
   "execution_count": 46,
   "metadata": {},
   "outputs": [],
   "source": [
    "convo_2_flat = tf.reshape(convo_2_pooling,[-1,7*7*64])\n",
    "full_layer_one = tf.nn.relu(normal_full_layer(convo_2_flat,1024))"
   ]
  },
  {
   "cell_type": "code",
   "execution_count": 47,
   "metadata": {
    "collapsed": true
   },
   "outputs": [],
   "source": [
    "#Dropout\n",
    "hold_prob = tf.placeholder(tf.float32)\n",
    "full_one_dropout = tf.nn.dropout(full_layer_one,keep_prob=hold_prob)"
   ]
  },
  {
   "cell_type": "code",
   "execution_count": 48,
   "metadata": {
    "collapsed": true
   },
   "outputs": [],
   "source": [
    "y_pred = normal_full_layer(full_one_dropout,10)"
   ]
  },
  {
   "cell_type": "code",
   "execution_count": 49,
   "metadata": {
    "collapsed": true
   },
   "outputs": [],
   "source": [
    "#LOSS FUNCTION\n",
    "cross_entropy = tf.reduce_mean(tf.nn.softmax_cross_entropy_with_logits(labels=y_true,logits=y_pred))"
   ]
  },
  {
   "cell_type": "code",
   "execution_count": 28,
   "metadata": {
    "collapsed": true
   },
   "outputs": [],
   "source": [
    "#OPTIMIZER"
   ]
  },
  {
   "cell_type": "code",
   "execution_count": 50,
   "metadata": {
    "collapsed": true
   },
   "outputs": [],
   "source": [
    "optimizer = tf.train.AdadeltaOptimizer(learning_rate=0.001)\n",
    "train = optimizer.minimize(cross_entropy)"
   ]
  },
  {
   "cell_type": "code",
   "execution_count": 51,
   "metadata": {
    "collapsed": true
   },
   "outputs": [],
   "source": [
    "init = tf.global_variables_initializer()"
   ]
  },
  {
   "cell_type": "code",
   "execution_count": 53,
   "metadata": {},
   "outputs": [
    {
     "name": "stdout",
     "output_type": "stream",
     "text": [
      "ON STEP: 0\n",
      "ACCURACY:\n",
      "0.1028\n",
      "\n",
      "\n",
      "ON STEP: 100\n",
      "ACCURACY:\n",
      "0.0969\n",
      "\n",
      "\n",
      "ON STEP: 200\n",
      "ACCURACY:\n",
      "0.0994\n",
      "\n",
      "\n",
      "ON STEP: 300\n",
      "ACCURACY:\n",
      "0.1044\n",
      "\n",
      "\n",
      "ON STEP: 400\n",
      "ACCURACY:\n",
      "0.1054\n",
      "\n",
      "\n",
      "ON STEP: 500\n",
      "ACCURACY:\n",
      "0.104\n",
      "\n",
      "\n",
      "ON STEP: 600\n",
      "ACCURACY:\n",
      "0.092\n",
      "\n",
      "\n",
      "ON STEP: 700\n",
      "ACCURACY:\n",
      "0.1057\n",
      "\n",
      "\n",
      "ON STEP: 800\n",
      "ACCURACY:\n",
      "0.1044\n",
      "\n",
      "\n",
      "ON STEP: 900\n",
      "ACCURACY:\n",
      "0.1039\n",
      "\n",
      "\n",
      "ON STEP: 1000\n",
      "ACCURACY:\n",
      "0.1008\n",
      "\n",
      "\n",
      "ON STEP: 1100\n",
      "ACCURACY:\n",
      "0.1012\n",
      "\n",
      "\n",
      "ON STEP: 1200\n",
      "ACCURACY:\n",
      "0.1063\n",
      "\n",
      "\n",
      "ON STEP: 1300\n",
      "ACCURACY:\n",
      "0.1088\n",
      "\n",
      "\n",
      "ON STEP: 1400\n",
      "ACCURACY:\n",
      "0.1014\n",
      "\n",
      "\n",
      "ON STEP: 1500\n",
      "ACCURACY:\n",
      "0.1065\n",
      "\n",
      "\n",
      "ON STEP: 1600\n",
      "ACCURACY:\n",
      "0.113\n",
      "\n",
      "\n",
      "ON STEP: 1700\n",
      "ACCURACY:\n",
      "0.1028\n",
      "\n",
      "\n",
      "ON STEP: 1800\n",
      "ACCURACY:\n",
      "0.1121\n",
      "\n",
      "\n",
      "ON STEP: 1900\n",
      "ACCURACY:\n",
      "0.1044\n",
      "\n",
      "\n",
      "ON STEP: 2000\n",
      "ACCURACY:\n",
      "0.1074\n",
      "\n",
      "\n",
      "ON STEP: 2100\n",
      "ACCURACY:\n",
      "0.1052\n",
      "\n",
      "\n",
      "ON STEP: 2200\n",
      "ACCURACY:\n",
      "0.1118\n",
      "\n",
      "\n",
      "ON STEP: 2300\n",
      "ACCURACY:\n",
      "0.1071\n",
      "\n",
      "\n",
      "ON STEP: 2400\n",
      "ACCURACY:\n",
      "0.1127\n",
      "\n",
      "\n",
      "ON STEP: 2500\n",
      "ACCURACY:\n",
      "0.1122\n",
      "\n",
      "\n",
      "ON STEP: 2600\n",
      "ACCURACY:\n",
      "0.1162\n",
      "\n",
      "\n",
      "ON STEP: 2700\n",
      "ACCURACY:\n",
      "0.113\n",
      "\n",
      "\n",
      "ON STEP: 2800\n",
      "ACCURACY:\n",
      "0.1172\n",
      "\n",
      "\n",
      "ON STEP: 2900\n",
      "ACCURACY:\n",
      "0.1179\n",
      "\n",
      "\n",
      "ON STEP: 3000\n",
      "ACCURACY:\n",
      "0.1157\n",
      "\n",
      "\n",
      "ON STEP: 3100\n",
      "ACCURACY:\n",
      "0.1086\n",
      "\n",
      "\n",
      "ON STEP: 3200\n",
      "ACCURACY:\n",
      "0.1199\n",
      "\n",
      "\n",
      "ON STEP: 3300\n",
      "ACCURACY:\n",
      "0.1184\n",
      "\n",
      "\n",
      "ON STEP: 3400\n",
      "ACCURACY:\n",
      "0.1131\n",
      "\n",
      "\n",
      "ON STEP: 3500\n",
      "ACCURACY:\n",
      "0.1172\n",
      "\n",
      "\n",
      "ON STEP: 3600\n",
      "ACCURACY:\n",
      "0.1193\n",
      "\n",
      "\n",
      "ON STEP: 3700\n",
      "ACCURACY:\n",
      "0.1218\n",
      "\n",
      "\n",
      "ON STEP: 3800\n",
      "ACCURACY:\n",
      "0.1191\n",
      "\n",
      "\n",
      "ON STEP: 3900\n",
      "ACCURACY:\n",
      "0.1232\n",
      "\n",
      "\n",
      "ON STEP: 4000\n",
      "ACCURACY:\n",
      "0.1219\n",
      "\n",
      "\n",
      "ON STEP: 4100\n",
      "ACCURACY:\n",
      "0.1184\n",
      "\n",
      "\n",
      "ON STEP: 4200\n",
      "ACCURACY:\n",
      "0.1271\n",
      "\n",
      "\n",
      "ON STEP: 4300\n",
      "ACCURACY:\n",
      "0.1327\n",
      "\n",
      "\n",
      "ON STEP: 4400\n",
      "ACCURACY:\n",
      "0.129\n",
      "\n",
      "\n",
      "ON STEP: 4500\n",
      "ACCURACY:\n",
      "0.124\n",
      "\n",
      "\n",
      "ON STEP: 4600\n",
      "ACCURACY:\n",
      "0.1337\n",
      "\n",
      "\n",
      "ON STEP: 4700\n",
      "ACCURACY:\n",
      "0.1306\n",
      "\n",
      "\n",
      "ON STEP: 4800\n",
      "ACCURACY:\n",
      "0.1268\n",
      "\n",
      "\n",
      "ON STEP: 4900\n",
      "ACCURACY:\n",
      "0.1276\n",
      "\n",
      "\n"
     ]
    }
   ],
   "source": [
    "steps = 5000\n",
    "\n",
    "with tf.Session() as sess:\n",
    "    sess.run(init)\n",
    "    \n",
    "    for i in range(steps):\n",
    "        batch_x , batch_y = mnist.train.next_batch(50)\n",
    "        sess.run(train,feed_dict={x:batch_x,y_true:batch_y,hold_prob:0.5})\n",
    "        \n",
    "        if i % 100 == 0:\n",
    "            print(\"ON STEP: {}\".format(i))\n",
    "            print(\"ACCURACY:\")\n",
    "            matches = tf.equal(tf.argmax(y_pred,1),tf.argmax(y_true,1))\n",
    "            \n",
    "            acc = tf.reduce_mean(tf.cast(matches,tf.float32))\n",
    "            print(sess.run(acc,feed_dict={x:mnist.test.images,y_true:mnist.test.labels,hold_prob:0.1}))\n",
    "            print('\\n')\n",
    "                               \n",
    "                               \n",
    "                               \n",
    "                               "
   ]
  },
  {
   "cell_type": "code",
   "execution_count": null,
   "metadata": {
    "collapsed": true
   },
   "outputs": [],
   "source": []
  }
 ],
 "metadata": {
  "kernelspec": {
   "display_name": "Python 3",
   "language": "python",
   "name": "python3"
  },
  "language_info": {
   "codemirror_mode": {
    "name": "ipython",
    "version": 3
   },
   "file_extension": ".py",
   "mimetype": "text/x-python",
   "name": "python",
   "nbconvert_exporter": "python",
   "pygments_lexer": "ipython3",
   "version": "3.5.4"
  }
 },
 "nbformat": 4,
 "nbformat_minor": 2
}
